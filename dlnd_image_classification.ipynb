{
 "cells": [
  {
   "cell_type": "markdown",
   "metadata": {
    "collapsed": true,
    "deletable": true,
    "editable": true
   },
   "source": [
    "# Image Classification\n",
    "In this project, you'll classify images from the [CIFAR-10 dataset](https://www.cs.toronto.edu/~kriz/cifar.html).  The dataset consists of airplanes, dogs, cats, and other objects. You'll preprocess the images, then train a convolutional neural network on all the samples. The images need to be normalized and the labels need to be one-hot encoded.  You'll get to apply what you learned and build a convolutional, max pooling, dropout, and fully connected layers.  At the end, you'll get to see your neural network's predictions on the sample images.\n",
    "## Get the Data\n",
    "Run the following cell to download the [CIFAR-10 dataset for python](https://www.cs.toronto.edu/~kriz/cifar-10-python.tar.gz)."
   ]
  },
  {
   "cell_type": "code",
   "execution_count": 1,
   "metadata": {
    "collapsed": false,
    "deletable": true,
    "editable": true
   },
   "outputs": [
    {
     "name": "stdout",
     "output_type": "stream",
     "text": [
      "All files found!\n"
     ]
    }
   ],
   "source": [
    "\"\"\"\n",
    "DON'T MODIFY ANYTHING IN THIS CELL THAT IS BELOW THIS LINE\n",
    "\"\"\"\n",
    "from urllib.request import urlretrieve\n",
    "from os.path import isfile, isdir\n",
    "from tqdm import tqdm\n",
    "import problem_unittests as tests\n",
    "import tarfile\n",
    "\n",
    "cifar10_dataset_folder_path = 'cifar-10-batches-py'\n",
    "\n",
    "# Use Floyd's cifar-10 dataset if present\n",
    "floyd_cifar10_location = '/input/cifar-10/python.tar.gz'\n",
    "if isfile(floyd_cifar10_location):\n",
    "    tar_gz_path = floyd_cifar10_location\n",
    "else:\n",
    "    tar_gz_path = 'cifar-10-python.tar.gz'\n",
    "\n",
    "class DLProgress(tqdm):\n",
    "    last_block = 0\n",
    "\n",
    "    def hook(self, block_num=1, block_size=1, total_size=None):\n",
    "        self.total = total_size\n",
    "        self.update((block_num - self.last_block) * block_size)\n",
    "        self.last_block = block_num\n",
    "\n",
    "if not isfile(tar_gz_path):\n",
    "    with DLProgress(unit='B', unit_scale=True, miniters=1, desc='CIFAR-10 Dataset') as pbar:\n",
    "        urlretrieve(\n",
    "            'https://www.cs.toronto.edu/~kriz/cifar-10-python.tar.gz',\n",
    "            tar_gz_path,\n",
    "            pbar.hook)\n",
    "\n",
    "if not isdir(cifar10_dataset_folder_path):\n",
    "    with tarfile.open(tar_gz_path) as tar:\n",
    "        tar.extractall()\n",
    "        tar.close()\n",
    "\n",
    "\n",
    "tests.test_folder_path(cifar10_dataset_folder_path)"
   ]
  },
  {
   "cell_type": "markdown",
   "metadata": {
    "deletable": true,
    "editable": true
   },
   "source": [
    "## Explore the Data\n",
    "The dataset is broken into batches to prevent your machine from running out of memory.  The CIFAR-10 dataset consists of 5 batches, named `data_batch_1`, `data_batch_2`, etc.. Each batch contains the labels and images that are one of the following:\n",
    "* airplane\n",
    "* automobile\n",
    "* bird\n",
    "* cat\n",
    "* deer\n",
    "* dog\n",
    "* frog\n",
    "* horse\n",
    "* ship\n",
    "* truck\n",
    "\n",
    "Understanding a dataset is part of making predictions on the data.  Play around with the code cell below by changing the `batch_id` and `sample_id`. The `batch_id` is the id for a batch (1-5). The `sample_id` is the id for a image and label pair in the batch.\n",
    "\n",
    "Ask yourself \"What are all possible labels?\", \"What is the range of values for the image data?\", \"Are the labels in order or random?\".  Answers to questions like these will help you preprocess the data and end up with better predictions."
   ]
  },
  {
   "cell_type": "code",
   "execution_count": 2,
   "metadata": {
    "collapsed": false,
    "deletable": true,
    "editable": true
   },
   "outputs": [
    {
     "name": "stdout",
     "output_type": "stream",
     "text": [
      "\n",
      "Stats of batch 1:\n",
      "Samples: 10000\n",
      "Label Counts: {0: 1005, 1: 974, 2: 1032, 3: 1016, 4: 999, 5: 937, 6: 1030, 7: 1001, 8: 1025, 9: 981}\n",
      "First 20 Labels: [6, 9, 9, 4, 1, 1, 2, 7, 8, 3, 4, 7, 7, 2, 9, 9, 9, 3, 2, 6]\n",
      "\n",
      "Example of Image 5:\n",
      "Image - Min Value: 0 Max Value: 252\n",
      "Image - Shape: (32, 32, 3)\n",
      "Label - Label Id: 1 Name: automobile\n"
     ]
    },
    {
     "data": {
      "image/png": "[encoded data removed]",
      "text/plain": [
       "<matplotlib.figure.Figure at 0x7faf5e789d68>"
      ]
     },
     "metadata": {
      "image/png": {
       "height": 250,
       "width": 253
      }
     },
     "output_type": "display_data"
    }
   ],
   "source": [
    "%matplotlib inline\n",
    "%config InlineBackend.figure_format = 'retina'\n",
    "\n",
    "import helper\n",
    "import numpy as np\n",
    "\n",
    "# Explore the dataset\n",
    "batch_id = 1\n",
    "sample_id = 5\n",
    "helper.display_stats(cifar10_dataset_folder_path, batch_id, sample_id)"
   ]
  },
  {
   "cell_type": "markdown",
   "metadata": {
    "deletable": true,
    "editable": true
   },
   "source": [
    "## Implement Preprocess Functions\n",
    "### Normalize\n",
    "In the cell below, implement the `normalize` function to take in image data, `x`, and return it as a normalized Numpy array. The values should be in the range of 0 to 1, inclusive.  The return object should be the same shape as `x`."
   ]
  },
  {
   "cell_type": "code",
   "execution_count": 3,
   "metadata": {
    "collapsed": false,
    "deletable": true,
    "editable": true
   },
   "outputs": [
    {
     "name": "stdout",
     "output_type": "stream",
     "text": [
      "Tests Passed\n"
     ]
    }
   ],
   "source": [
    "def normalize(x):\n",
    "    \"\"\"\n",
    "    Normalize a list of sample image data in the range of 0 to 1\n",
    "    : x: List of image data.  The image shape is (32, 32, 3)\n",
    "    : return: Numpy array of normalize data\n",
    "    \"\"\"\n",
    "    # TODO: Implement Function\n",
    "    x_normed = (x - x.min(0)) / x.ptp(0)\n",
    "    return(x_normed)\n",
    "    \n",
    "\n",
    "\n",
    "\"\"\"\n",
    "DON'T MODIFY ANYTHING IN THIS CELL THAT IS BELOW THIS LINE\n",
    "\"\"\"\n",
    "tests.test_normalize(normalize)"
   ]
  },
  {
   "cell_type": "markdown",
   "metadata": {
    "deletable": true,
    "editable": true
   },
   "source": [
    "### One-hot encode\n",
    "Just like the previous code cell, you'll be implementing a function for preprocessing.  This time, you'll implement the `one_hot_encode` function. The input, `x`, are a list of labels.  Implement the function to return the list of labels as One-Hot encoded Numpy array.  The possible values for labels are 0 to 9. The one-hot encoding function should return the same encoding for each value between each call to `one_hot_encode`.  Make sure to save the map of encodings outside the function.\n",
    "\n",
    "Hint: Don't reinvent the wheel."
   ]
  },
  {
   "cell_type": "code",
   "execution_count": 4,
   "metadata": {
    "collapsed": false,
    "deletable": true,
    "editable": true
   },
   "outputs": [
    {
     "name": "stdout",
     "output_type": "stream",
     "text": [
      "Tests Passed\n"
     ]
    }
   ],
   "source": [
    "def one_hot_encode(x):\n",
    "    \"\"\"\n",
    "    One hot encode a list of sample labels. Return a one-hot encoded vector for each label.\n",
    "    : x: List of sample Labels\n",
    "    : return: Numpy array of one-hot encoded labels\n",
    "    \"\"\"\n",
    "    # TODO: Implement Function\n",
    "    rows = len(x)      \n",
    "    result = np.zeros([rows,10])\n",
    "    for i, j in  enumerate(x):  \n",
    "       result[i][j] = 1\n",
    "    return(result)\n",
    "\n",
    "\n",
    "\"\"\"\n",
    "DON'T MODIFY ANYTHING IN THIS CELL THAT IS BELOW THIS LINE\n",
    "\"\"\"\n",
    "tests.test_one_hot_encode(one_hot_encode)"
   ]
  },
  {
   "cell_type": "markdown",
   "metadata": {
    "deletable": true,
    "editable": true
   },
   "source": [
    "### Randomize Data\n",
    "As you saw from exploring the data above, the order of the samples are randomized.  It doesn't hurt to randomize it again, but you don't need to for this dataset."
   ]
  },
  {
   "cell_type": "markdown",
   "metadata": {
    "deletable": true,
    "editable": true
   },
   "source": [
    "## Preprocess all the data and save it\n",
    "Running the code cell below will preprocess all the CIFAR-10 data and save it to file. The code below also uses 10% of the training data for validation."
   ]
  },
  {
   "cell_type": "code",
   "execution_count": 5,
   "metadata": {
    "collapsed": true,
    "deletable": true,
    "editable": true
   },
   "outputs": [],
   "source": [
    "\"\"\"\n",
    "DON'T MODIFY ANYTHING IN THIS CELL\n",
    "\"\"\"\n",
    "# Preprocess Training, Validation, and Testing Data\n",
    "helper.preprocess_and_save_data(cifar10_dataset_folder_path, normalize, one_hot_encode)"
   ]
  },
  {
   "cell_type": "markdown",
   "metadata": {
    "deletable": true,
    "editable": true
   },
   "source": [
    "# Check Point\n",
    "This is your first checkpoint.  If you ever decide to come back to this notebook or have to restart the notebook, you can start from here.  The preprocessed data has been saved to disk."
   ]
  },
  {
   "cell_type": "code",
   "execution_count": 6,
   "metadata": {
    "collapsed": true,
    "deletable": true,
    "editable": true
   },
   "outputs": [],
   "source": [
    "\"\"\"\n",
    "DON'T MODIFY ANYTHING IN THIS CELL\n",
    "\"\"\"\n",
    "import pickle\n",
    "import problem_unittests as tests\n",
    "import helper\n",
    "\n",
    "# Load the Preprocessed Validation data\n",
    "valid_features, valid_labels = pickle.load(open('preprocess_validation.p', mode='rb'))"
   ]
  },
  {
   "cell_type": "markdown",
   "metadata": {
    "deletable": true,
    "editable": true
   },
   "source": [
    "## Build the network\n",
    "For the neural network, you'll build each layer into a function.  Most of the code you've seen has been outside of functions. To test your code more thoroughly, we require that you put each layer in a function.  This allows us to give you better feedback and test for simple mistakes using our unittests before you submit your project.\n",
    "\n",
    ">**Note:** If you're finding it hard to dedicate enough time for this course each week, we've provided a small shortcut to this part of the project. In the next couple of problems, you'll have the option to use classes from the [TensorFlow Layers](https://www.tensorflow.org/api_docs/python/tf/layers) or [TensorFlow Layers (contrib)](https://www.tensorflow.org/api_guides/python/contrib.layers) packages to build each layer, except the layers you build in the \"Convolutional and Max Pooling Layer\" section.  TF Layers is similar to Keras's and TFLearn's abstraction to layers, so it's easy to pickup.\n",
    "\n",
    ">However, if you would like to get the most out of this course, try to solve all the problems _without_ using anything from the TF Layers packages. You **can** still use classes from other packages that happen to have the same name as ones you find in TF Layers! For example, instead of using the TF Layers version of the `conv2d` class, [tf.layers.conv2d](https://www.tensorflow.org/api_docs/python/tf/layers/conv2d), you would want to use the TF Neural Network version of `conv2d`, [tf.nn.conv2d](https://www.tensorflow.org/api_docs/python/tf/nn/conv2d). \n",
    "\n",
    "Let's begin!\n",
    "\n",
    "### Input\n",
    "The neural network needs to read the image data, one-hot encoded labels, and dropout keep probability. Implement the following functions\n",
    "* Implement `neural_net_image_input`\n",
    " * Return a [TF Placeholder](https://www.tensorflow.org/api_docs/python/tf/placeholder)\n",
    " * Set the shape using `image_shape` with batch size set to `None`.\n",
    " * Name the TensorFlow placeholder \"x\" using the TensorFlow `name` parameter in the [TF Placeholder](https://www.tensorflow.org/api_docs/python/tf/placeholder).\n",
    "* Implement `neural_net_label_input`\n",
    " * Return a [TF Placeholder](https://www.tensorflow.org/api_docs/python/tf/placeholder)\n",
    " * Set the shape using `n_classes` with batch size set to `None`.\n",
    " * Name the TensorFlow placeholder \"y\" using the TensorFlow `name` parameter in the [TF Placeholder](https://www.tensorflow.org/api_docs/python/tf/placeholder).\n",
    "* Implement `neural_net_keep_prob_input`\n",
    " * Return a [TF Placeholder](https://www.tensorflow.org/api_docs/python/tf/placeholder) for dropout keep probability.\n",
    " * Name the TensorFlow placeholder \"keep_prob\" using the TensorFlow `name` parameter in the [TF Placeholder](https://www.tensorflow.org/api_docs/python/tf/placeholder).\n",
    "\n",
    "These names will be used at the end of the project to load your saved model.\n",
    "\n",
    "Note: `None` for shapes in TensorFlow allow for a dynamic size."
   ]
  },
  {
   "cell_type": "code",
   "execution_count": 7,
   "metadata": {
    "collapsed": false,
    "deletable": true,
    "editable": true
   },
   "outputs": [
    {
     "name": "stdout",
     "output_type": "stream",
     "text": [
      "Image Input Tests Passed.\n",
      "Label Input Tests Passed.\n",
      "Keep Prob Tests Passed.\n"
     ]
    }
   ],
   "source": [
    "import tensorflow as tf\n",
    "\n",
    "def neural_net_image_input(image_shape):\n",
    "    \"\"\"\n",
    "    Return a Tensor for a batch of image input\n",
    "    : image_shape: Shape of the images\n",
    "    : return: Tensor for image input.\n",
    "    \"\"\"\n",
    "    # TODO: Implement Function\n",
    "    input = tf.placeholder(tf.float32,\n",
    "    shape=[None, image_shape[0], image_shape[1], image_shape[2]], name='x')\n",
    "\n",
    "    return(input)\n",
    "\n",
    "\n",
    "def neural_net_label_input(n_classes):\n",
    "    \"\"\"\n",
    "    Return a Tensor for a batch of label input\n",
    "    : n_classes: Number of classes\n",
    "    : return: Tensor for label input.\n",
    "    \"\"\"\n",
    "    # TODO: Implement Function\n",
    "    input = tf.placeholder(tf.float32, shape=[None, n_classes], name='y')\n",
    "    return(input)\n",
    "\n",
    "\n",
    "def neural_net_keep_prob_input():\n",
    "    \"\"\"\n",
    "    Return a Tensor for keep probability\n",
    "    : return: Tensor for keep probability.\n",
    "    \"\"\"\n",
    "    # TODO: Implement Function\n",
    "    input = tf.placeholder(tf.float32, shape=None, name='keep_prob')\n",
    "    return(input)\n",
    "\n",
    "\n",
    "\"\"\"\n",
    "DON'T MODIFY ANYTHING IN THIS CELL THAT IS BELOW THIS LINE\n",
    "\"\"\"\n",
    "tf.reset_default_graph()\n",
    "tests.test_nn_image_inputs(neural_net_image_input)\n",
    "tests.test_nn_label_inputs(neural_net_label_input)\n",
    "tests.test_nn_keep_prob_inputs(neural_net_keep_prob_input)"
   ]
  },
  {
   "cell_type": "markdown",
   "metadata": {
    "deletable": true,
    "editable": true
   },
   "source": [
    "### Convolution and Max Pooling Layer\n",
    "Convolution layers have a lot of success with images. For this code cell, you should implement the function `conv2d_maxpool` to apply convolution then max pooling:\n",
    "* Create the weight and bias using `conv_ksize`, `conv_num_outputs` and the shape of `x_tensor`.\n",
    "* Apply a convolution to `x_tensor` using weight and `conv_strides`.\n",
    " * We recommend you use same padding, but you're welcome to use any padding.\n",
    "* Add bias\n",
    "* Add a nonlinear activation to the convolution.\n",
    "* Apply Max Pooling using `pool_ksize` and `pool_strides`.\n",
    " * We recommend you use same padding, but you're welcome to use any padding.\n",
    "\n",
    "**Note:** You **can't** use [TensorFlow Layers](https://www.tensorflow.org/api_docs/python/tf/layers) or [TensorFlow Layers (contrib)](https://www.tensorflow.org/api_guides/python/contrib.layers) for **this** layer, but you can still use TensorFlow's [Neural Network](https://www.tensorflow.org/api_docs/python/tf/nn) package. You may still use the shortcut option for all the **other** layers."
   ]
  },
  {
   "cell_type": "code",
   "execution_count": 8,
   "metadata": {
    "collapsed": false,
    "deletable": true,
    "editable": true
   },
   "outputs": [
    {
     "name": "stdout",
     "output_type": "stream",
     "text": [
      "Tests Passed\n"
     ]
    }
   ],
   "source": [
    "def conv2d_maxpool(x_tensor, conv_num_outputs, conv_ksize, conv_strides, pool_ksize, pool_strides):\n",
    "    \"\"\"\n",
    "    Apply convolution then max pooling to x_tensor\n",
    "    :param x_tensor: TensorFlow Tensor\n",
    "    :param conv_num_outputs: Number of outputs for the convolutional layer\n",
    "    :param conv_ksize: kernal size 2-D Tuple for the convolutional layer\n",
    "    :param conv_strides: Stride 2-D Tuple for convolution\n",
    "    :param pool_ksize: kernal size 2-D Tuple for pool\n",
    "    :param pool_strides: Stride 2-D Tuple for pool\n",
    "    : return: A tensor that represents convolution and max pooling of x_tensor\n",
    "    \"\"\"\n",
    "    # TODO: Implement Function\n",
    "    third=x_tensor.get_shape().as_list()[3]\n",
    "    \n",
    "    weight = tf.Variable(tf.truncated_normal(\n",
    "    [conv_ksize[0], conv_ksize[1], third, conv_num_outputs]))\n",
    "    bias = tf.Variable(tf.zeros(conv_num_outputs))\n",
    "\n",
    "    conv_layer = tf.nn.conv2d(x_tensor, weight, \n",
    "                              strides=[1, conv_strides[0], conv_strides[1], 1], padding='SAME')\n",
    "    # Add bias\n",
    "    conv_layer = tf.nn.bias_add(conv_layer, bias)\n",
    "    # Apply activation function\n",
    "    conv_layer = tf.nn.relu(conv_layer)\n",
    "    \n",
    "    # Max pooling\n",
    "    conv_layer = tf.nn.max_pool(\n",
    "    conv_layer,\n",
    "    ksize=[1, pool_ksize[0], pool_ksize[1], 1],\n",
    "    strides=[1, pool_strides[0], pool_strides[1], 1],\n",
    "    padding='SAME')\n",
    "\n",
    "    return(conv_layer)\n",
    "\n",
    "\n",
    "\"\"\"\n",
    "DON'T MODIFY ANYTHING IN THIS CELL THAT IS BELOW THIS LINE\n",
    "\"\"\"\n",
    "tests.test_con_pool(conv2d_maxpool)"
   ]
  },
  {
   "cell_type": "markdown",
   "metadata": {
    "deletable": true,
    "editable": true
   },
   "source": [
    "### Flatten Layer\n",
    "Implement the `flatten` function to change the dimension of `x_tensor` from a 4-D tensor to a 2-D tensor.  The output should be the shape (*Batch Size*, *Flattened Image Size*). Shortcut option: you can use classes from the [TensorFlow Layers](https://www.tensorflow.org/api_docs/python/tf/layers) or [TensorFlow Layers (contrib)](https://www.tensorflow.org/api_guides/python/contrib.layers) packages for this layer. For more of a challenge, only use other TensorFlow packages."
   ]
  },
  {
   "cell_type": "code",
   "execution_count": 9,
   "metadata": {
    "collapsed": false,
    "deletable": true,
    "editable": true
   },
   "outputs": [
    {
     "name": "stdout",
     "output_type": "stream",
     "text": [
      "Tests Passed\n"
     ]
    }
   ],
   "source": [
    "def flatten(x_tensor):\n",
    "    \"\"\"\n",
    "    Flatten x_tensor to (Batch Size, Flattened Image Size)\n",
    "    : x_tensor: A tensor of size (Batch Size, ...), where ... are the image dimensions.\n",
    "    : return: A tensor of size (Batch Size, Flattened Image Size).\n",
    "    \"\"\"\n",
    "    # TODO: Implement Function\n",
    "    dim = x_tensor.get_shape().as_list()\n",
    "    output = tf.reshape(x_tensor, \n",
    "                       [-1, dim[1] * dim[2] * dim[3]])\n",
    "    return(output)\n",
    "\n",
    "\n",
    "\"\"\"\n",
    "DON'T MODIFY ANYTHING IN THIS CELL THAT IS BELOW THIS LINE\n",
    "\"\"\"\n",
    "tests.test_flatten(flatten)"
   ]
  },
  {
   "cell_type": "markdown",
   "metadata": {
    "deletable": true,
    "editable": true
   },
   "source": [
    "### Fully-Connected Layer\n",
    "Implement the `fully_conn` function to apply a fully connected layer to `x_tensor` with the shape (*Batch Size*, *num_outputs*). Shortcut option: you can use classes from the [TensorFlow Layers](https://www.tensorflow.org/api_docs/python/tf/layers) or [TensorFlow Layers (contrib)](https://www.tensorflow.org/api_guides/python/contrib.layers) packages for this layer. For more of a challenge, only use other TensorFlow packages."
   ]
  },
  {
   "cell_type": "code",
   "execution_count": 10,
   "metadata": {
    "collapsed": false,
    "deletable": true,
    "editable": true
   },
   "outputs": [
    {
     "name": "stdout",
     "output_type": "stream",
     "text": [
      "Tests Passed\n"
     ]
    }
   ],
   "source": [
    "def fully_conn(x_tensor, num_outputs):\n",
    "    \"\"\"\n",
    "    Apply a fully connected layer to x_tensor using weight and bias\n",
    "    : x_tensor: A 2-D tensor where the first dimension is batch size.\n",
    "    : num_outputs: The number of output that the new tensor should be.\n",
    "    : return: A 2-D tensor where the second dimension is num_outputs.\n",
    "    \"\"\"\n",
    "    # TODO: Implement Function\n",
    "    dims = x_tensor.get_shape().as_list()\n",
    "    \n",
    "    weights = tf.Variable(tf.truncated_normal([dims[1], num_outputs], mean=0.0, stddev=0.01))\n",
    "    biases = tf.Variable(tf.zeros([num_outputs]))\n",
    "    \n",
    "    fc1 = tf.add(tf.matmul(x_tensor, weights), biases)\n",
    "    fc1 = tf.nn.relu(fc1)\n",
    "\n",
    "    return(fc1)\n",
    "\n",
    "\n",
    "\"\"\"\n",
    "DON'T MODIFY ANYTHING IN THIS CELL THAT IS BELOW THIS LINE\n",
    "\"\"\"\n",
    "tests.test_fully_conn(fully_conn)"
   ]
  },
  {
   "cell_type": "markdown",
   "metadata": {
    "deletable": true,
    "editable": true
   },
   "source": [
    "### Output Layer\n",
    "Implement the `output` function to apply a fully connected layer to `x_tensor` with the shape (*Batch Size*, *num_outputs*). Shortcut option: you can use classes from the [TensorFlow Layers](https://www.tensorflow.org/api_docs/python/tf/layers) or [TensorFlow Layers (contrib)](https://www.tensorflow.org/api_guides/python/contrib.layers) packages for this layer. For more of a challenge, only use other TensorFlow packages.\n",
    "\n",
    "**Note:** Activation, softmax, or cross entropy should **not** be applied to this."
   ]
  },
  {
   "cell_type": "code",
   "execution_count": 11,
   "metadata": {
    "collapsed": false,
    "deletable": true,
    "editable": true
   },
   "outputs": [
    {
     "name": "stdout",
     "output_type": "stream",
     "text": [
      "Tests Passed\n"
     ]
    }
   ],
   "source": [
    "def output(x_tensor, num_outputs):\n",
    "    \"\"\"\n",
    "    Apply a output layer to x_tensor using weight and bias\n",
    "    : x_tensor: A 2-D tensor where the first dimension is batch size.\n",
    "    : num_outputs: The number of output that the new tensor should be.\n",
    "    : return: A 2-D tensor where the second dimension is num_outputs.\n",
    "    \"\"\"\n",
    "    # TODO: Implement Function\n",
    "    dims = x_tensor.get_shape().as_list()\n",
    "    \n",
    "    weights = tf.Variable(tf.truncated_normal([dims[1], num_outputs], mean=0.0, stddev=0.01))\n",
    "    biases = tf.Variable(tf.zeros([num_outputs]))\n",
    "\n",
    "    out = tf.add(tf.matmul(x_tensor, weights), biases)\n",
    "    return(out)\n",
    "\n",
    "\n",
    "\"\"\"\n",
    "DON'T MODIFY ANYTHING IN THIS CELL THAT IS BELOW THIS LINE\n",
    "\"\"\"\n",
    "tests.test_output(output)"
   ]
  },
  {
   "cell_type": "markdown",
   "metadata": {
    "deletable": true,
    "editable": true
   },
   "source": [
    "### Create Convolutional Model\n",
    "Implement the function `conv_net` to create a convolutional neural network model. The function takes in a batch of images, `x`, and outputs logits.  Use the layers you created above to create this model:\n",
    "\n",
    "* Apply 1, 2, or 3 Convolution and Max Pool layers\n",
    "* Apply a Flatten Layer\n",
    "* Apply 1, 2, or 3 Fully Connected Layers\n",
    "* Apply an Output Layer\n",
    "* Return the output\n",
    "* Apply [TensorFlow's Dropout](https://www.tensorflow.org/api_docs/python/tf/nn/dropout) to one or more layers in the model using `keep_prob`. "
   ]
  },
  {
   "cell_type": "code",
   "execution_count": 12,
   "metadata": {
    "collapsed": false,
    "deletable": true,
    "editable": true
   },
   "outputs": [
    {
     "name": "stdout",
     "output_type": "stream",
     "text": [
      "Neural Network Built!\n"
     ]
    }
   ],
   "source": [
    "def conv_net(x, keep_prob):\n",
    "    \"\"\"\n",
    "    Create a convolutional neural network model\n",
    "    : x: Placeholder tensor that holds image data.\n",
    "    : keep_prob: Placeholder tensor that hold dropout keep probability.\n",
    "    : return: Tensor that represents logits\n",
    "    \"\"\"\n",
    "    # TODO: Apply 1, 2, or 3 Convolution and Max Pool layers\n",
    "    #    Play around with different number of outputs, kernel size and stride\n",
    "    # Function Definition from Above:\n",
    "    #    conv2d_maxpool(x_tensor, conv_num_outputs, conv_ksize, conv_strides, pool_ksize, pool_strides)\n",
    "    x_tensor = x\n",
    "    conv_ksize = (3,3) \n",
    "    conv_num_outputs = 10\n",
    "    conv_strides = (1,1)\n",
    "    pool_ksize = (3,3)\n",
    "    pool_strides = (1,1)\n",
    "    num_outputs = 10\n",
    "    \n",
    "    conv = conv2d_maxpool(x_tensor, conv_num_outputs, conv_ksize, conv_strides, pool_ksize, pool_strides)\n",
    "    conv2 = conv2d_maxpool(conv, conv_num_outputs, conv_ksize, conv_strides, pool_ksize, pool_strides)\n",
    "\n",
    "    # TODO: Apply a Flatten Layer\n",
    "    # Function Definition from Above:\n",
    "    #   flatten(x_tensor)\n",
    "    flat = flatten(conv2)\n",
    "    flat = tf.nn.dropout(flat, keep_prob)\n",
    "\n",
    "    # TODO: Apply 1, 2, or 3 Fully Connected Layers\n",
    "    #    Play around with different number of outputs\n",
    "    # Function Definition from Above:\n",
    "    #   fully_conn(x_tensor, num_outputs)\n",
    "    fc1 = fully_conn(flat, num_outputs)\n",
    "    fc2 = fully_conn(fc1, num_outputs)\n",
    "    \n",
    "    # TODO: Apply an Output Layer\n",
    "    #    Set this to the number of classes\n",
    "    # Function Definition from Above:\n",
    "    #   output(x_tensor, num_outputs)\n",
    "    result = output(fc2, num_outputs)\n",
    "    \n",
    "    # TODO: return output\n",
    "    return(result)\n",
    "\n",
    "\n",
    "\"\"\"\n",
    "DON'T MODIFY ANYTHING IN THIS CELL THAT IS BELOW THIS LINE\n",
    "\"\"\"\n",
    "\n",
    "##############################\n",
    "## Build the Neural Network ##\n",
    "##############################\n",
    "\n",
    "# Remove previous weights, bias, inputs, etc..\n",
    "tf.reset_default_graph()\n",
    "\n",
    "# Inputs\n",
    "x = neural_net_image_input((32, 32, 3))\n",
    "y = neural_net_label_input(10)\n",
    "keep_prob = neural_net_keep_prob_input()\n",
    "\n",
    "# Model\n",
    "logits = conv_net(x, keep_prob)\n",
    "\n",
    "# Name logits Tensor, so that is can be loaded from disk after training\n",
    "logits = tf.identity(logits, name='logits')\n",
    "\n",
    "# Loss and Optimizer\n",
    "cost = tf.reduce_mean(tf.nn.softmax_cross_entropy_with_logits(logits=logits, labels=y))\n",
    "optimizer = tf.train.AdamOptimizer().minimize(cost)\n",
    "\n",
    "# Accuracy\n",
    "correct_pred = tf.equal(tf.argmax(logits, 1), tf.argmax(y, 1))\n",
    "accuracy = tf.reduce_mean(tf.cast(correct_pred, tf.float32), name='accuracy')\n",
    "\n",
    "tests.test_conv_net(conv_net)"
   ]
  },
  {
   "cell_type": "markdown",
   "metadata": {
    "deletable": true,
    "editable": true
   },
   "source": [
    "## Train the Neural Network\n",
    "### Single Optimization\n",
    "Implement the function `train_neural_network` to do a single optimization.  The optimization should use `optimizer` to optimize in `session` with a `feed_dict` of the following:\n",
    "* `x` for image input\n",
    "* `y` for labels\n",
    "* `keep_prob` for keep probability for dropout\n",
    "\n",
    "This function will be called for each batch, so `tf.global_variables_initializer()` has already been called.\n",
    "\n",
    "Note: Nothing needs to be returned. This function is only optimizing the neural network."
   ]
  },
  {
   "cell_type": "code",
   "execution_count": 13,
   "metadata": {
    "collapsed": false,
    "deletable": true,
    "editable": true
   },
   "outputs": [
    {
     "name": "stdout",
     "output_type": "stream",
     "text": [
      "Tests Passed\n"
     ]
    }
   ],
   "source": [
    "def train_neural_network(session, optimizer, keep_probability, feature_batch, label_batch):\n",
    "    \"\"\"\n",
    "    Optimize the session on a batch of images and labels\n",
    "    : session: Current TensorFlow session\n",
    "    : optimizer: TensorFlow optimizer function\n",
    "    : keep_probability: keep probability\n",
    "    : feature_batch: Batch of Numpy image data\n",
    "    : label_batch: Batch of Numpy label data\n",
    "    \"\"\"\n",
    "    # TODO: Implement Function\n",
    "    session.run(optimizer, feed_dict={\n",
    "        x: feature_batch,\n",
    "        y: label_batch,\n",
    "        keep_prob: keep_probability})\n",
    "\n",
    "    # Calculate batch loss and accuracy\n",
    "    loss = session.run(cost, feed_dict={\n",
    "        x: feature_batch,\n",
    "        y: label_batch,\n",
    "        keep_prob: 1.})\n",
    "\n",
    "\n",
    "\"\"\"\n",
    "DON'T MODIFY ANYTHING IN THIS CELL THAT IS BELOW THIS LINE\n",
    "\"\"\"\n",
    "tests.test_train_nn(train_neural_network)"
   ]
  },
  {
   "cell_type": "markdown",
   "metadata": {
    "deletable": true,
    "editable": true
   },
   "source": [
    "### Show Stats\n",
    "Implement the function `print_stats` to print loss and validation accuracy.  Use the global variables `valid_features` and `valid_labels` to calculate validation accuracy.  Use a keep probability of `1.0` to calculate the loss and validation accuracy."
   ]
  },
  {
   "cell_type": "code",
   "execution_count": 14,
   "metadata": {
    "collapsed": true,
    "deletable": true,
    "editable": true
   },
   "outputs": [],
   "source": [
    "def print_stats(session, feature_batch, label_batch, cost, accuracy):\n",
    "    \"\"\"\n",
    "    Print information about loss and validation accuracy\n",
    "    : session: Current TensorFlow session\n",
    "    : feature_batch: Batch of Numpy image data\n",
    "    : label_batch: Batch of Numpy label data\n",
    "    : cost: TensorFlow cost function\n",
    "    : accuracy: TensorFlow accuracy function\n",
    "    \"\"\"\n",
    "    # TODO: Implement Function\n",
    "    loss = session.run(cost, feed_dict={\n",
    "        x: feature_batch,\n",
    "        y: label_batch,\n",
    "        keep_prob: 1.})\n",
    "    \n",
    "    acc = sess.run(accuracy, feed_dict={\n",
    "        x: valid_features,\n",
    "        y: valid_labels,\n",
    "        keep_prob: 1.})\n",
    "    \n",
    "    print('Loss: {:>10.4f} Validation Accuracy: {:.6f}'.format(loss, acc))\n",
    "\n"
   ]
  },
  {
   "cell_type": "markdown",
   "metadata": {
    "deletable": true,
    "editable": true
   },
   "source": [
    "### Hyperparameters\n",
    "Tune the following parameters:\n",
    "* Set `epochs` to the number of iterations until the network stops learning or start overfitting\n",
    "* Set `batch_size` to the highest number that your machine has memory for.  Most people set them to common sizes of memory:\n",
    " * 64\n",
    " * 128\n",
    " * 256\n",
    " * ...\n",
    "* Set `keep_probability` to the probability of keeping a node using dropout"
   ]
  },
  {
   "cell_type": "code",
   "execution_count": 15,
   "metadata": {
    "collapsed": true,
    "deletable": true,
    "editable": true
   },
   "outputs": [],
   "source": [
    "# TODO: Tune Parameters\n",
    "epochs = 60\n",
    "batch_size = 256\n",
    "keep_probability = 0.5"
   ]
  },
  {
   "cell_type": "markdown",
   "metadata": {
    "deletable": true,
    "editable": true
   },
   "source": [
    "### Train on a Single CIFAR-10 Batch\n",
    "Instead of training the neural network on all the CIFAR-10 batches of data, let's use a single batch. This should save time while you iterate on the model to get a better accuracy.  Once the final validation accuracy is 50% or greater, run the model on all the data in the next section."
   ]
  },
  {
   "cell_type": "code",
   "execution_count": 16,
   "metadata": {
    "collapsed": false,
    "deletable": true,
    "editable": true
   },
   "outputs": [
    {
     "name": "stdout",
     "output_type": "stream",
     "text": [
      "Checking the Training on a Single Batch...\n",
      "Epoch  1, CIFAR-10 Batch 1:  Loss:     2.2317 Validation Accuracy: 0.193600\n",
      "Epoch  2, CIFAR-10 Batch 1:  Loss:     2.2009 Validation Accuracy: 0.233200\n",
      "Epoch  3, CIFAR-10 Batch 1:  Loss:     2.0986 Validation Accuracy: 0.274600\n",
      "Epoch  4, CIFAR-10 Batch 1:  Loss:     1.9376 Validation Accuracy: 0.287600\n",
      "Epoch  5, CIFAR-10 Batch 1:  Loss:     1.8580 Validation Accuracy: 0.323400\n",
      "Epoch  6, CIFAR-10 Batch 1:  Loss:     1.7856 Validation Accuracy: 0.355000\n",
      "Epoch  7, CIFAR-10 Batch 1:  Loss:     1.7017 Validation Accuracy: 0.373000\n",
      "Epoch  8, CIFAR-10 Batch 1:  Loss:     1.6081 Validation Accuracy: 0.389600\n",
      "Epoch  9, CIFAR-10 Batch 1:  Loss:     1.5465 Validation Accuracy: 0.396200\n",
      "Epoch 10, CIFAR-10 Batch 1:  Loss:     1.4848 Validation Accuracy: 0.403600\n",
      "Epoch 11, CIFAR-10 Batch 1:  Loss:     1.4290 Validation Accuracy: 0.412000\n",
      "Epoch 12, CIFAR-10 Batch 1:  Loss:     1.3793 Validation Accuracy: 0.414000\n",
      "Epoch 13, CIFAR-10 Batch 1:  Loss:     1.3082 Validation Accuracy: 0.420200\n",
      "Epoch 14, CIFAR-10 Batch 1:  Loss:     1.2609 Validation Accuracy: 0.429200\n",
      "Epoch 15, CIFAR-10 Batch 1:  Loss:     1.2542 Validation Accuracy: 0.420000\n",
      "Epoch 16, CIFAR-10 Batch 1:  Loss:     1.1633 Validation Accuracy: 0.424800\n",
      "Epoch 17, CIFAR-10 Batch 1:  Loss:     1.1625 Validation Accuracy: 0.431400\n",
      "Epoch 18, CIFAR-10 Batch 1:  Loss:     1.1181 Validation Accuracy: 0.429200\n",
      "Epoch 19, CIFAR-10 Batch 1:  Loss:     1.0653 Validation Accuracy: 0.438400\n",
      "Epoch 20, CIFAR-10 Batch 1:  Loss:     1.0455 Validation Accuracy: 0.450800\n",
      "Epoch 21, CIFAR-10 Batch 1:  Loss:     1.0236 Validation Accuracy: 0.452200\n",
      "Epoch 22, CIFAR-10 Batch 1:  Loss:     0.9632 Validation Accuracy: 0.473400\n",
      "Epoch 23, CIFAR-10 Batch 1:  Loss:     0.9517 Validation Accuracy: 0.476800\n",
      "Epoch 24, CIFAR-10 Batch 1:  Loss:     0.9386 Validation Accuracy: 0.461600\n",
      "Epoch 25, CIFAR-10 Batch 1:  Loss:     0.8930 Validation Accuracy: 0.473400\n",
      "Epoch 26, CIFAR-10 Batch 1:  Loss:     0.8746 Validation Accuracy: 0.481600\n",
      "Epoch 27, CIFAR-10 Batch 1:  Loss:     0.8565 Validation Accuracy: 0.483600\n",
      "Epoch 28, CIFAR-10 Batch 1:  Loss:     0.8476 Validation Accuracy: 0.489200\n",
      "Epoch 29, CIFAR-10 Batch 1:  Loss:     0.8273 Validation Accuracy: 0.486600\n",
      "Epoch 30, CIFAR-10 Batch 1:  Loss:     0.8162 Validation Accuracy: 0.488000\n",
      "Epoch 31, CIFAR-10 Batch 1:  Loss:     0.7873 Validation Accuracy: 0.495000\n",
      "Epoch 32, CIFAR-10 Batch 1:  Loss:     0.7937 Validation Accuracy: 0.497200\n",
      "Epoch 33, CIFAR-10 Batch 1:  Loss:     0.7773 Validation Accuracy: 0.495000\n",
      "Epoch 34, CIFAR-10 Batch 1:  Loss:     0.7722 Validation Accuracy: 0.492600\n",
      "Epoch 35, CIFAR-10 Batch 1:  Loss:     0.7629 Validation Accuracy: 0.491400\n",
      "Epoch 36, CIFAR-10 Batch 1:  Loss:     0.7279 Validation Accuracy: 0.497800\n",
      "Epoch 37, CIFAR-10 Batch 1:  Loss:     0.7045 Validation Accuracy: 0.498400\n",
      "Epoch 38, CIFAR-10 Batch 1:  Loss:     0.6953 Validation Accuracy: 0.500200\n",
      "Epoch 39, CIFAR-10 Batch 1:  Loss:     0.6853 Validation Accuracy: 0.503400\n",
      "Epoch 40, CIFAR-10 Batch 1:  Loss:     0.6674 Validation Accuracy: 0.501800\n",
      "Epoch 41, CIFAR-10 Batch 1:  Loss:     0.6718 Validation Accuracy: 0.506000\n",
      "Epoch 42, CIFAR-10 Batch 1:  Loss:     0.6680 Validation Accuracy: 0.503800\n",
      "Epoch 43, CIFAR-10 Batch 1:  Loss:     0.6362 Validation Accuracy: 0.507600\n",
      "Epoch 44, CIFAR-10 Batch 1:  Loss:     0.6451 Validation Accuracy: 0.506200\n",
      "Epoch 45, CIFAR-10 Batch 1:  Loss:     0.6246 Validation Accuracy: 0.504000\n",
      "Epoch 46, CIFAR-10 Batch 1:  Loss:     0.6080 Validation Accuracy: 0.505200\n",
      "Epoch 47, CIFAR-10 Batch 1:  Loss:     0.5938 Validation Accuracy: 0.503600\n",
      "Epoch 48, CIFAR-10 Batch 1:  Loss:     0.5893 Validation Accuracy: 0.507000\n",
      "Epoch 49, CIFAR-10 Batch 1:  Loss:     0.5904 Validation Accuracy: 0.506200\n",
      "Epoch 50, CIFAR-10 Batch 1:  Loss:     0.5705 Validation Accuracy: 0.506800\n",
      "Epoch 51, CIFAR-10 Batch 1:  Loss:     0.5796 Validation Accuracy: 0.510800\n",
      "Epoch 52, CIFAR-10 Batch 1:  Loss:     0.5643 Validation Accuracy: 0.509000\n",
      "Epoch 53, CIFAR-10 Batch 1:  Loss:     0.5608 Validation Accuracy: 0.512000\n",
      "Epoch 54, CIFAR-10 Batch 1:  Loss:     0.5638 Validation Accuracy: 0.509200\n",
      "Epoch 55, CIFAR-10 Batch 1:  Loss:     0.5634 Validation Accuracy: 0.507600\n",
      "Epoch 56, CIFAR-10 Batch 1:  Loss:     0.5406 Validation Accuracy: 0.512800\n",
      "Epoch 57, CIFAR-10 Batch 1:  Loss:     0.5356 Validation Accuracy: 0.512600\n",
      "Epoch 58, CIFAR-10 Batch 1:  Loss:     0.5182 Validation Accuracy: 0.513600\n",
      "Epoch 59, CIFAR-10 Batch 1:  Loss:     0.5297 Validation Accuracy: 0.516400\n",
      "Epoch 60, CIFAR-10 Batch 1:  Loss:     0.5321 Validation Accuracy: 0.511600\n"
     ]
    }
   ],
   "source": [
    "\"\"\"\n",
    "DON'T MODIFY ANYTHING IN THIS CELL\n",
    "\"\"\"\n",
    "print('Checking the Training on a Single Batch...')\n",
    "with tf.Session() as sess:\n",
    "    # Initializing the variables\n",
    "    sess.run(tf.global_variables_initializer())\n",
    "    \n",
    "    # Training cycle\n",
    "    for epoch in range(epochs):\n",
    "        batch_i = 1\n",
    "        for batch_features, batch_labels in helper.load_preprocess_training_batch(batch_i, batch_size):\n",
    "            train_neural_network(sess, optimizer, keep_probability, batch_features, batch_labels)\n",
    "        print('Epoch {:>2}, CIFAR-10 Batch {}:  '.format(epoch + 1, batch_i), end='')\n",
    "        print_stats(sess, batch_features, batch_labels, cost, accuracy)"
   ]
  },
  {
   "cell_type": "markdown",
   "metadata": {
    "deletable": true,
    "editable": true
   },
   "source": [
    "### Fully Train the Model\n",
    "Now that you got a good accuracy with a single CIFAR-10 batch, try it with all five batches."
   ]
  },
  {
   "cell_type": "code",
   "execution_count": 17,
   "metadata": {
    "collapsed": false,
    "deletable": true,
    "editable": true
   },
   "outputs": [
    {
     "name": "stdout",
     "output_type": "stream",
     "text": [
      "Training...\n",
      "Epoch  1, CIFAR-10 Batch 1:  Loss:     2.2575 Validation Accuracy: 0.235000\n",
      "Epoch  1, CIFAR-10 Batch 2:  Loss:     2.1080 Validation Accuracy: 0.260200\n",
      "Epoch  1, CIFAR-10 Batch 3:  Loss:     1.9018 Validation Accuracy: 0.270000\n",
      "Epoch  1, CIFAR-10 Batch 4:  Loss:     1.9185 Validation Accuracy: 0.275600\n",
      "Epoch  1, CIFAR-10 Batch 5:  Loss:     1.8496 Validation Accuracy: 0.300600\n",
      "Epoch  2, CIFAR-10 Batch 1:  Loss:     2.1567 Validation Accuracy: 0.326200\n",
      "Epoch  2, CIFAR-10 Batch 2:  Loss:     1.7900 Validation Accuracy: 0.333000\n",
      "Epoch  2, CIFAR-10 Batch 3:  Loss:     1.7050 Validation Accuracy: 0.335800\n",
      "Epoch  2, CIFAR-10 Batch 4:  Loss:     1.7545 Validation Accuracy: 0.329200\n",
      "Epoch  2, CIFAR-10 Batch 5:  Loss:     1.6756 Validation Accuracy: 0.361400\n",
      "Epoch  3, CIFAR-10 Batch 1:  Loss:     2.1473 Validation Accuracy: 0.359800\n",
      "Epoch  3, CIFAR-10 Batch 2:  Loss:     1.5755 Validation Accuracy: 0.382800\n",
      "Epoch  3, CIFAR-10 Batch 3:  Loss:     1.4022 Validation Accuracy: 0.387200\n",
      "Epoch  3, CIFAR-10 Batch 4:  Loss:     1.5936 Validation Accuracy: 0.386800\n",
      "Epoch  3, CIFAR-10 Batch 5:  Loss:     1.5366 Validation Accuracy: 0.390800\n",
      "Epoch  4, CIFAR-10 Batch 1:  Loss:     1.8367 Validation Accuracy: 0.384200\n",
      "Epoch  4, CIFAR-10 Batch 2:  Loss:     1.4152 Validation Accuracy: 0.400600\n",
      "Epoch  4, CIFAR-10 Batch 3:  Loss:     1.2718 Validation Accuracy: 0.406600\n",
      "Epoch  4, CIFAR-10 Batch 4:  Loss:     1.5539 Validation Accuracy: 0.409800\n",
      "Epoch  4, CIFAR-10 Batch 5:  Loss:     1.4900 Validation Accuracy: 0.394800\n",
      "Epoch  5, CIFAR-10 Batch 1:  Loss:     1.7693 Validation Accuracy: 0.409800\n",
      "Epoch  5, CIFAR-10 Batch 2:  Loss:     1.3740 Validation Accuracy: 0.417400\n",
      "Epoch  5, CIFAR-10 Batch 3:  Loss:     1.2361 Validation Accuracy: 0.408600\n",
      "Epoch  5, CIFAR-10 Batch 4:  Loss:     1.5463 Validation Accuracy: 0.428000\n",
      "Epoch  5, CIFAR-10 Batch 5:  Loss:     1.3933 Validation Accuracy: 0.429800\n",
      "Epoch  6, CIFAR-10 Batch 1:  Loss:     1.6952 Validation Accuracy: 0.419200\n",
      "Epoch  6, CIFAR-10 Batch 2:  Loss:     1.3271 Validation Accuracy: 0.427600\n",
      "Epoch  6, CIFAR-10 Batch 3:  Loss:     1.2136 Validation Accuracy: 0.418600\n",
      "Epoch  6, CIFAR-10 Batch 4:  Loss:     1.5144 Validation Accuracy: 0.443200\n",
      "Epoch  6, CIFAR-10 Batch 5:  Loss:     1.4710 Validation Accuracy: 0.403800\n",
      "Epoch  7, CIFAR-10 Batch 1:  Loss:     1.6553 Validation Accuracy: 0.422200\n",
      "Epoch  7, CIFAR-10 Batch 2:  Loss:     1.3065 Validation Accuracy: 0.439800\n",
      "Epoch  7, CIFAR-10 Batch 3:  Loss:     1.1893 Validation Accuracy: 0.426200\n",
      "Epoch  7, CIFAR-10 Batch 4:  Loss:     1.5126 Validation Accuracy: 0.445600\n",
      "Epoch  7, CIFAR-10 Batch 5:  Loss:     1.3552 Validation Accuracy: 0.441600\n",
      "Epoch  8, CIFAR-10 Batch 1:  Loss:     1.6204 Validation Accuracy: 0.439400\n",
      "Epoch  8, CIFAR-10 Batch 2:  Loss:     1.2848 Validation Accuracy: 0.448800\n",
      "Epoch  8, CIFAR-10 Batch 3:  Loss:     1.1866 Validation Accuracy: 0.442000\n",
      "Epoch  8, CIFAR-10 Batch 4:  Loss:     1.4956 Validation Accuracy: 0.449800\n",
      "Epoch  8, CIFAR-10 Batch 5:  Loss:     1.3563 Validation Accuracy: 0.450200\n",
      "Epoch  9, CIFAR-10 Batch 1:  Loss:     1.5819 Validation Accuracy: 0.441800\n",
      "Epoch  9, CIFAR-10 Batch 2:  Loss:     1.2573 Validation Accuracy: 0.449200\n",
      "Epoch  9, CIFAR-10 Batch 3:  Loss:     1.1944 Validation Accuracy: 0.455800\n",
      "Epoch  9, CIFAR-10 Batch 4:  Loss:     1.4683 Validation Accuracy: 0.459800\n",
      "Epoch  9, CIFAR-10 Batch 5:  Loss:     1.3305 Validation Accuracy: 0.459600\n",
      "Epoch 10, CIFAR-10 Batch 1:  Loss:     1.5535 Validation Accuracy: 0.451200\n",
      "Epoch 10, CIFAR-10 Batch 2:  Loss:     1.2300 Validation Accuracy: 0.456000\n",
      "Epoch 10, CIFAR-10 Batch 3:  Loss:     1.1792 Validation Accuracy: 0.460000\n",
      "Epoch 10, CIFAR-10 Batch 4:  Loss:     1.4602 Validation Accuracy: 0.464400\n",
      "Epoch 10, CIFAR-10 Batch 5:  Loss:     1.3109 Validation Accuracy: 0.461600\n",
      "Epoch 11, CIFAR-10 Batch 1:  Loss:     1.5521 Validation Accuracy: 0.454000\n",
      "Epoch 11, CIFAR-10 Batch 2:  Loss:     1.2007 Validation Accuracy: 0.455400\n",
      "Epoch 11, CIFAR-10 Batch 3:  Loss:     1.1661 Validation Accuracy: 0.465000\n",
      "Epoch 11, CIFAR-10 Batch 4:  Loss:     1.4234 Validation Accuracy: 0.466400\n",
      "Epoch 11, CIFAR-10 Batch 5:  Loss:     1.3321 Validation Accuracy: 0.468400\n",
      "Epoch 12, CIFAR-10 Batch 1:  Loss:     1.5346 Validation Accuracy: 0.457000\n",
      "Epoch 12, CIFAR-10 Batch 2:  Loss:     1.1834 Validation Accuracy: 0.464800\n",
      "Epoch 12, CIFAR-10 Batch 3:  Loss:     1.1356 Validation Accuracy: 0.467200\n",
      "Epoch 12, CIFAR-10 Batch 4:  Loss:     1.4194 Validation Accuracy: 0.467800\n",
      "Epoch 12, CIFAR-10 Batch 5:  Loss:     1.3135 Validation Accuracy: 0.468000\n",
      "Epoch 13, CIFAR-10 Batch 1:  Loss:     1.5130 Validation Accuracy: 0.458600\n",
      "Epoch 13, CIFAR-10 Batch 2:  Loss:     1.1609 Validation Accuracy: 0.466000\n",
      "Epoch 13, CIFAR-10 Batch 3:  Loss:     1.1224 Validation Accuracy: 0.476200\n",
      "Epoch 13, CIFAR-10 Batch 4:  Loss:     1.3875 Validation Accuracy: 0.470000\n",
      "Epoch 13, CIFAR-10 Batch 5:  Loss:     1.3047 Validation Accuracy: 0.472600\n",
      "Epoch 14, CIFAR-10 Batch 1:  Loss:     1.4771 Validation Accuracy: 0.459800\n",
      "Epoch 14, CIFAR-10 Batch 2:  Loss:     1.1494 Validation Accuracy: 0.473600\n",
      "Epoch 14, CIFAR-10 Batch 3:  Loss:     1.1074 Validation Accuracy: 0.476800\n",
      "Epoch 14, CIFAR-10 Batch 4:  Loss:     1.3583 Validation Accuracy: 0.476600\n",
      "Epoch 14, CIFAR-10 Batch 5:  Loss:     1.2787 Validation Accuracy: 0.473800\n",
      "Epoch 15, CIFAR-10 Batch 1:  Loss:     1.4708 Validation Accuracy: 0.463000\n",
      "Epoch 15, CIFAR-10 Batch 2:  Loss:     1.1178 Validation Accuracy: 0.474800\n",
      "Epoch 15, CIFAR-10 Batch 3:  Loss:     1.0983 Validation Accuracy: 0.475000\n",
      "Epoch 15, CIFAR-10 Batch 4:  Loss:     1.3689 Validation Accuracy: 0.477800\n",
      "Epoch 15, CIFAR-10 Batch 5:  Loss:     1.2651 Validation Accuracy: 0.474600\n",
      "Epoch 16, CIFAR-10 Batch 1:  Loss:     1.4336 Validation Accuracy: 0.467600\n",
      "Epoch 16, CIFAR-10 Batch 2:  Loss:     1.1077 Validation Accuracy: 0.479600\n",
      "Epoch 16, CIFAR-10 Batch 3:  Loss:     1.0778 Validation Accuracy: 0.474000\n",
      "Epoch 16, CIFAR-10 Batch 4:  Loss:     1.3539 Validation Accuracy: 0.483200\n",
      "Epoch 16, CIFAR-10 Batch 5:  Loss:     1.2536 Validation Accuracy: 0.478200\n",
      "Epoch 17, CIFAR-10 Batch 1:  Loss:     1.4403 Validation Accuracy: 0.464600\n",
      "Epoch 17, CIFAR-10 Batch 2:  Loss:     1.1054 Validation Accuracy: 0.481000\n",
      "Epoch 17, CIFAR-10 Batch 3:  Loss:     1.0624 Validation Accuracy: 0.480000\n",
      "Epoch 17, CIFAR-10 Batch 4:  Loss:     1.3331 Validation Accuracy: 0.483800\n",
      "Epoch 17, CIFAR-10 Batch 5:  Loss:     1.2256 Validation Accuracy: 0.482800\n",
      "Epoch 18, CIFAR-10 Batch 1:  Loss:     1.4042 Validation Accuracy: 0.470200\n",
      "Epoch 18, CIFAR-10 Batch 2:  Loss:     1.0928 Validation Accuracy: 0.483000\n",
      "Epoch 18, CIFAR-10 Batch 3:  Loss:     1.0313 Validation Accuracy: 0.478000\n",
      "Epoch 18, CIFAR-10 Batch 4:  Loss:     1.3157 Validation Accuracy: 0.486000\n",
      "Epoch 18, CIFAR-10 Batch 5:  Loss:     1.2261 Validation Accuracy: 0.486600\n",
      "Epoch 19, CIFAR-10 Batch 1:  Loss:     1.3925 Validation Accuracy: 0.472400\n",
      "Epoch 19, CIFAR-10 Batch 2:  Loss:     1.1011 Validation Accuracy: 0.483200\n",
      "Epoch 19, CIFAR-10 Batch 3:  Loss:     1.0139 Validation Accuracy: 0.482000\n",
      "Epoch 19, CIFAR-10 Batch 4:  Loss:     1.3148 Validation Accuracy: 0.489800\n",
      "Epoch 19, CIFAR-10 Batch 5:  Loss:     1.1996 Validation Accuracy: 0.485800\n",
      "Epoch 20, CIFAR-10 Batch 1:  Loss:     1.3740 Validation Accuracy: 0.472600\n",
      "Epoch 20, CIFAR-10 Batch 2:  Loss:     1.0834 Validation Accuracy: 0.483800\n",
      "Epoch 20, CIFAR-10 Batch 3:  Loss:     1.0137 Validation Accuracy: 0.479400\n",
      "Epoch 20, CIFAR-10 Batch 4:  Loss:     1.2942 Validation Accuracy: 0.490000\n",
      "Epoch 20, CIFAR-10 Batch 5:  Loss:     1.1971 Validation Accuracy: 0.489600\n",
      "Epoch 21, CIFAR-10 Batch 1:  Loss:     1.3456 Validation Accuracy: 0.470800\n",
      "Epoch 21, CIFAR-10 Batch 2:  Loss:     1.0956 Validation Accuracy: 0.494000\n",
      "Epoch 21, CIFAR-10 Batch 3:  Loss:     0.9995 Validation Accuracy: 0.485000\n",
      "Epoch 21, CIFAR-10 Batch 4:  Loss:     1.2794 Validation Accuracy: 0.496000\n",
      "Epoch 21, CIFAR-10 Batch 5:  Loss:     1.1833 Validation Accuracy: 0.493800\n",
      "Epoch 22, CIFAR-10 Batch 1:  Loss:     1.3163 Validation Accuracy: 0.482000\n",
      "Epoch 22, CIFAR-10 Batch 2:  Loss:     1.0878 Validation Accuracy: 0.494200\n",
      "Epoch 22, CIFAR-10 Batch 3:  Loss:     0.9943 Validation Accuracy: 0.489400\n",
      "Epoch 22, CIFAR-10 Batch 4:  Loss:     1.2715 Validation Accuracy: 0.496800\n",
      "Epoch 22, CIFAR-10 Batch 5:  Loss:     1.1552 Validation Accuracy: 0.494600\n",
      "Epoch 23, CIFAR-10 Batch 1:  Loss:     1.3012 Validation Accuracy: 0.480200\n",
      "Epoch 23, CIFAR-10 Batch 2:  Loss:     1.0726 Validation Accuracy: 0.497000\n",
      "Epoch 23, CIFAR-10 Batch 3:  Loss:     0.9886 Validation Accuracy: 0.489200\n",
      "Epoch 23, CIFAR-10 Batch 4:  Loss:     1.2790 Validation Accuracy: 0.496800\n",
      "Epoch 23, CIFAR-10 Batch 5:  Loss:     1.1587 Validation Accuracy: 0.497600\n",
      "Epoch 24, CIFAR-10 Batch 1:  Loss:     1.3012 Validation Accuracy: 0.483800\n",
      "Epoch 24, CIFAR-10 Batch 2:  Loss:     1.0708 Validation Accuracy: 0.498600\n",
      "Epoch 24, CIFAR-10 Batch 3:  Loss:     0.9719 Validation Accuracy: 0.497200\n",
      "Epoch 24, CIFAR-10 Batch 4:  Loss:     1.2524 Validation Accuracy: 0.499400\n",
      "Epoch 24, CIFAR-10 Batch 5:  Loss:     1.1433 Validation Accuracy: 0.503600\n",
      "Epoch 25, CIFAR-10 Batch 1:  Loss:     1.2873 Validation Accuracy: 0.491600\n",
      "Epoch 25, CIFAR-10 Batch 2:  Loss:     1.0696 Validation Accuracy: 0.502600\n",
      "Epoch 25, CIFAR-10 Batch 3:  Loss:     0.9681 Validation Accuracy: 0.498800\n",
      "Epoch 25, CIFAR-10 Batch 4:  Loss:     1.2655 Validation Accuracy: 0.504600\n",
      "Epoch 25, CIFAR-10 Batch 5:  Loss:     1.1291 Validation Accuracy: 0.508400\n",
      "Epoch 26, CIFAR-10 Batch 1:  Loss:     1.2696 Validation Accuracy: 0.490200\n",
      "Epoch 26, CIFAR-10 Batch 2:  Loss:     1.0667 Validation Accuracy: 0.504600\n",
      "Epoch 26, CIFAR-10 Batch 3:  Loss:     0.9518 Validation Accuracy: 0.501400\n",
      "Epoch 26, CIFAR-10 Batch 4:  Loss:     1.2650 Validation Accuracy: 0.507800\n",
      "Epoch 26, CIFAR-10 Batch 5:  Loss:     1.1103 Validation Accuracy: 0.508400\n",
      "Epoch 27, CIFAR-10 Batch 1:  Loss:     1.2621 Validation Accuracy: 0.492600\n",
      "Epoch 27, CIFAR-10 Batch 2:  Loss:     1.0687 Validation Accuracy: 0.507000\n",
      "Epoch 27, CIFAR-10 Batch 3:  Loss:     0.9465 Validation Accuracy: 0.506800\n",
      "Epoch 27, CIFAR-10 Batch 4:  Loss:     1.2402 Validation Accuracy: 0.510400\n",
      "Epoch 27, CIFAR-10 Batch 5:  Loss:     1.0964 Validation Accuracy: 0.513000\n",
      "Epoch 28, CIFAR-10 Batch 1:  Loss:     1.2513 Validation Accuracy: 0.497200\n",
      "Epoch 28, CIFAR-10 Batch 2:  Loss:     1.0619 Validation Accuracy: 0.509600\n",
      "Epoch 28, CIFAR-10 Batch 3:  Loss:     0.9492 Validation Accuracy: 0.504800\n",
      "Epoch 28, CIFAR-10 Batch 4:  Loss:     1.2440 Validation Accuracy: 0.507200\n",
      "Epoch 28, CIFAR-10 Batch 5:  Loss:     1.0852 Validation Accuracy: 0.507200\n",
      "Epoch 29, CIFAR-10 Batch 1:  Loss:     1.2235 Validation Accuracy: 0.500400\n",
      "Epoch 29, CIFAR-10 Batch 2:  Loss:     1.0481 Validation Accuracy: 0.514000\n",
      "Epoch 29, CIFAR-10 Batch 3:  Loss:     0.9239 Validation Accuracy: 0.509800\n",
      "Epoch 29, CIFAR-10 Batch 4:  Loss:     1.2408 Validation Accuracy: 0.510800\n",
      "Epoch 29, CIFAR-10 Batch 5:  Loss:     1.0624 Validation Accuracy: 0.510000\n",
      "Epoch 30, CIFAR-10 Batch 1:  Loss:     1.2159 Validation Accuracy: 0.500800\n",
      "Epoch 30, CIFAR-10 Batch 2:  Loss:     1.0476 Validation Accuracy: 0.511200\n",
      "Epoch 30, CIFAR-10 Batch 3:  Loss:     0.9493 Validation Accuracy: 0.507400\n",
      "Epoch 30, CIFAR-10 Batch 4:  Loss:     1.2359 Validation Accuracy: 0.510800\n",
      "Epoch 30, CIFAR-10 Batch 5:  Loss:     1.0686 Validation Accuracy: 0.515200\n",
      "Epoch 31, CIFAR-10 Batch 1:  Loss:     1.2082 Validation Accuracy: 0.498800\n",
      "Epoch 31, CIFAR-10 Batch 2:  Loss:     1.0377 Validation Accuracy: 0.515000\n",
      "Epoch 31, CIFAR-10 Batch 3:  Loss:     0.9233 Validation Accuracy: 0.510000\n",
      "Epoch 31, CIFAR-10 Batch 4:  Loss:     1.2343 Validation Accuracy: 0.516000\n",
      "Epoch 31, CIFAR-10 Batch 5:  Loss:     1.0405 Validation Accuracy: 0.514000\n",
      "Epoch 32, CIFAR-10 Batch 1:  Loss:     1.1965 Validation Accuracy: 0.504400\n",
      "Epoch 32, CIFAR-10 Batch 2:  Loss:     1.0452 Validation Accuracy: 0.518800\n",
      "Epoch 32, CIFAR-10 Batch 3:  Loss:     0.9203 Validation Accuracy: 0.514200\n",
      "Epoch 32, CIFAR-10 Batch 4:  Loss:     1.2252 Validation Accuracy: 0.516000\n",
      "Epoch 32, CIFAR-10 Batch 5:  Loss:     1.0372 Validation Accuracy: 0.522000\n",
      "Epoch 33, CIFAR-10 Batch 1:  Loss:     1.1848 Validation Accuracy: 0.508400\n",
      "Epoch 33, CIFAR-10 Batch 2:  Loss:     1.0291 Validation Accuracy: 0.517400\n",
      "Epoch 33, CIFAR-10 Batch 3:  Loss:     0.9198 Validation Accuracy: 0.517000\n",
      "Epoch 33, CIFAR-10 Batch 4:  Loss:     1.2258 Validation Accuracy: 0.518200\n",
      "Epoch 33, CIFAR-10 Batch 5:  Loss:     1.0407 Validation Accuracy: 0.519200\n",
      "Epoch 34, CIFAR-10 Batch 1:  Loss:     1.1593 Validation Accuracy: 0.504400\n",
      "Epoch 34, CIFAR-10 Batch 2:  Loss:     1.0324 Validation Accuracy: 0.521600\n",
      "Epoch 34, CIFAR-10 Batch 3:  Loss:     0.9068 Validation Accuracy: 0.515600\n",
      "Epoch 34, CIFAR-10 Batch 4:  Loss:     1.2191 Validation Accuracy: 0.521600\n",
      "Epoch 34, CIFAR-10 Batch 5:  Loss:     1.0155 Validation Accuracy: 0.524400\n",
      "Epoch 35, CIFAR-10 Batch 1:  Loss:     1.1675 Validation Accuracy: 0.510200\n",
      "Epoch 35, CIFAR-10 Batch 2:  Loss:     1.0100 Validation Accuracy: 0.520000\n",
      "Epoch 35, CIFAR-10 Batch 3:  Loss:     0.8930 Validation Accuracy: 0.519000\n",
      "Epoch 35, CIFAR-10 Batch 4:  Loss:     1.2208 Validation Accuracy: 0.522400\n",
      "Epoch 35, CIFAR-10 Batch 5:  Loss:     1.0163 Validation Accuracy: 0.525200\n",
      "Epoch 36, CIFAR-10 Batch 1:  Loss:     1.1513 Validation Accuracy: 0.508400\n",
      "Epoch 36, CIFAR-10 Batch 2:  Loss:     1.0283 Validation Accuracy: 0.521000\n",
      "Epoch 36, CIFAR-10 Batch 3:  Loss:     0.8924 Validation Accuracy: 0.517400\n",
      "Epoch 36, CIFAR-10 Batch 4:  Loss:     1.2095 Validation Accuracy: 0.522000\n",
      "Epoch 36, CIFAR-10 Batch 5:  Loss:     1.0072 Validation Accuracy: 0.522200\n",
      "Epoch 37, CIFAR-10 Batch 1:  Loss:     1.1343 Validation Accuracy: 0.510000\n",
      "Epoch 37, CIFAR-10 Batch 2:  Loss:     1.0146 Validation Accuracy: 0.525800\n",
      "Epoch 37, CIFAR-10 Batch 3:  Loss:     0.8820 Validation Accuracy: 0.523800\n",
      "Epoch 37, CIFAR-10 Batch 4:  Loss:     1.2104 Validation Accuracy: 0.522800\n",
      "Epoch 37, CIFAR-10 Batch 5:  Loss:     0.9971 Validation Accuracy: 0.524800\n",
      "Epoch 38, CIFAR-10 Batch 1:  Loss:     1.1130 Validation Accuracy: 0.512200\n",
      "Epoch 38, CIFAR-10 Batch 2:  Loss:     1.0029 Validation Accuracy: 0.529200\n",
      "Epoch 38, CIFAR-10 Batch 3:  Loss:     0.8743 Validation Accuracy: 0.523800\n",
      "Epoch 38, CIFAR-10 Batch 4:  Loss:     1.1897 Validation Accuracy: 0.525600\n",
      "Epoch 38, CIFAR-10 Batch 5:  Loss:     0.9999 Validation Accuracy: 0.524600\n",
      "Epoch 39, CIFAR-10 Batch 1:  Loss:     1.1148 Validation Accuracy: 0.503800\n",
      "Epoch 39, CIFAR-10 Batch 2:  Loss:     1.0042 Validation Accuracy: 0.527200\n",
      "Epoch 39, CIFAR-10 Batch 3:  Loss:     0.8755 Validation Accuracy: 0.525400\n",
      "Epoch 39, CIFAR-10 Batch 4:  Loss:     1.1970 Validation Accuracy: 0.524400\n",
      "Epoch 39, CIFAR-10 Batch 5:  Loss:     1.0057 Validation Accuracy: 0.526600\n",
      "Epoch 40, CIFAR-10 Batch 1:  Loss:     1.0869 Validation Accuracy: 0.508200\n",
      "Epoch 40, CIFAR-10 Batch 2:  Loss:     0.9865 Validation Accuracy: 0.527200\n",
      "Epoch 40, CIFAR-10 Batch 3:  Loss:     0.8722 Validation Accuracy: 0.527400\n",
      "Epoch 40, CIFAR-10 Batch 4:  Loss:     1.1904 Validation Accuracy: 0.527400\n",
      "Epoch 40, CIFAR-10 Batch 5:  Loss:     0.9786 Validation Accuracy: 0.531600\n",
      "Epoch 41, CIFAR-10 Batch 1:  Loss:     1.0713 Validation Accuracy: 0.512800\n",
      "Epoch 41, CIFAR-10 Batch 2:  Loss:     0.9818 Validation Accuracy: 0.529800\n",
      "Epoch 41, CIFAR-10 Batch 3:  Loss:     0.8611 Validation Accuracy: 0.528800\n",
      "Epoch 41, CIFAR-10 Batch 4:  Loss:     1.1699 Validation Accuracy: 0.530200\n",
      "Epoch 41, CIFAR-10 Batch 5:  Loss:     0.9885 Validation Accuracy: 0.527000\n",
      "Epoch 42, CIFAR-10 Batch 1:  Loss:     1.0889 Validation Accuracy: 0.517400\n",
      "Epoch 42, CIFAR-10 Batch 2:  Loss:     0.9721 Validation Accuracy: 0.527200\n",
      "Epoch 42, CIFAR-10 Batch 3:  Loss:     0.8645 Validation Accuracy: 0.531000\n",
      "Epoch 42, CIFAR-10 Batch 4:  Loss:     1.1806 Validation Accuracy: 0.522400\n",
      "Epoch 42, CIFAR-10 Batch 5:  Loss:     0.9733 Validation Accuracy: 0.530000\n",
      "Epoch 43, CIFAR-10 Batch 1:  Loss:     1.0752 Validation Accuracy: 0.522800\n",
      "Epoch 43, CIFAR-10 Batch 2:  Loss:     0.9527 Validation Accuracy: 0.530000\n",
      "Epoch 43, CIFAR-10 Batch 3:  Loss:     0.8491 Validation Accuracy: 0.529000\n",
      "Epoch 43, CIFAR-10 Batch 4:  Loss:     1.1666 Validation Accuracy: 0.530200\n",
      "Epoch 43, CIFAR-10 Batch 5:  Loss:     0.9546 Validation Accuracy: 0.525200\n",
      "Epoch 44, CIFAR-10 Batch 1:  Loss:     1.0864 Validation Accuracy: 0.517600\n",
      "Epoch 44, CIFAR-10 Batch 2:  Loss:     0.9566 Validation Accuracy: 0.532600\n",
      "Epoch 44, CIFAR-10 Batch 3:  Loss:     0.8457 Validation Accuracy: 0.530400\n",
      "Epoch 44, CIFAR-10 Batch 4:  Loss:     1.1543 Validation Accuracy: 0.537600\n",
      "Epoch 44, CIFAR-10 Batch 5:  Loss:     0.9639 Validation Accuracy: 0.526600\n",
      "Epoch 45, CIFAR-10 Batch 1:  Loss:     1.0604 Validation Accuracy: 0.521800\n",
      "Epoch 45, CIFAR-10 Batch 2:  Loss:     0.9627 Validation Accuracy: 0.534200\n",
      "Epoch 45, CIFAR-10 Batch 3:  Loss:     0.8399 Validation Accuracy: 0.530800\n",
      "Epoch 45, CIFAR-10 Batch 4:  Loss:     1.1538 Validation Accuracy: 0.532000\n",
      "Epoch 45, CIFAR-10 Batch 5:  Loss:     0.9636 Validation Accuracy: 0.530600\n",
      "Epoch 46, CIFAR-10 Batch 1:  Loss:     1.0594 Validation Accuracy: 0.525600\n",
      "Epoch 46, CIFAR-10 Batch 2:  Loss:     0.9576 Validation Accuracy: 0.528600\n",
      "Epoch 46, CIFAR-10 Batch 3:  Loss:     0.8376 Validation Accuracy: 0.529600\n",
      "Epoch 46, CIFAR-10 Batch 4:  Loss:     1.1626 Validation Accuracy: 0.530400\n",
      "Epoch 46, CIFAR-10 Batch 5:  Loss:     0.9494 Validation Accuracy: 0.531600\n",
      "Epoch 47, CIFAR-10 Batch 1:  Loss:     1.0295 Validation Accuracy: 0.521400\n",
      "Epoch 47, CIFAR-10 Batch 2:  Loss:     0.9372 Validation Accuracy: 0.532800\n",
      "Epoch 47, CIFAR-10 Batch 3:  Loss:     0.8405 Validation Accuracy: 0.534800\n",
      "Epoch 47, CIFAR-10 Batch 4:  Loss:     1.1678 Validation Accuracy: 0.527000\n",
      "Epoch 47, CIFAR-10 Batch 5:  Loss:     0.9440 Validation Accuracy: 0.529000\n",
      "Epoch 48, CIFAR-10 Batch 1:  Loss:     1.0392 Validation Accuracy: 0.521800\n",
      "Epoch 48, CIFAR-10 Batch 2:  Loss:     0.9316 Validation Accuracy: 0.528800\n",
      "Epoch 48, CIFAR-10 Batch 3:  Loss:     0.8234 Validation Accuracy: 0.534200\n",
      "Epoch 48, CIFAR-10 Batch 4:  Loss:     1.1598 Validation Accuracy: 0.534200\n",
      "Epoch 48, CIFAR-10 Batch 5:  Loss:     0.9496 Validation Accuracy: 0.532800\n",
      "Epoch 49, CIFAR-10 Batch 1:  Loss:     1.0336 Validation Accuracy: 0.518200\n",
      "Epoch 49, CIFAR-10 Batch 2:  Loss:     0.9275 Validation Accuracy: 0.532600\n",
      "Epoch 49, CIFAR-10 Batch 3:  Loss:     0.8179 Validation Accuracy: 0.533800\n",
      "Epoch 49, CIFAR-10 Batch 4:  Loss:     1.1337 Validation Accuracy: 0.535600\n",
      "Epoch 49, CIFAR-10 Batch 5:  Loss:     0.9427 Validation Accuracy: 0.529400\n",
      "Epoch 50, CIFAR-10 Batch 1:  Loss:     1.0261 Validation Accuracy: 0.528600\n",
      "Epoch 50, CIFAR-10 Batch 2:  Loss:     0.9085 Validation Accuracy: 0.530200\n",
      "Epoch 50, CIFAR-10 Batch 3:  Loss:     0.8216 Validation Accuracy: 0.534200\n",
      "Epoch 50, CIFAR-10 Batch 4:  Loss:     1.1378 Validation Accuracy: 0.536000\n",
      "Epoch 50, CIFAR-10 Batch 5:  Loss:     0.9470 Validation Accuracy: 0.539400\n",
      "Epoch 51, CIFAR-10 Batch 1:  Loss:     1.0490 Validation Accuracy: 0.529200\n",
      "Epoch 51, CIFAR-10 Batch 2:  Loss:     0.9247 Validation Accuracy: 0.531600\n",
      "Epoch 51, CIFAR-10 Batch 3:  Loss:     0.8070 Validation Accuracy: 0.533200\n",
      "Epoch 51, CIFAR-10 Batch 4:  Loss:     1.1256 Validation Accuracy: 0.538400\n",
      "Epoch 51, CIFAR-10 Batch 5:  Loss:     0.9190 Validation Accuracy: 0.534600\n",
      "Epoch 52, CIFAR-10 Batch 1:  Loss:     1.0227 Validation Accuracy: 0.521000\n",
      "Epoch 52, CIFAR-10 Batch 2:  Loss:     0.9126 Validation Accuracy: 0.534800\n",
      "Epoch 52, CIFAR-10 Batch 3:  Loss:     0.8107 Validation Accuracy: 0.535200\n",
      "Epoch 52, CIFAR-10 Batch 4:  Loss:     1.1320 Validation Accuracy: 0.536600\n",
      "Epoch 52, CIFAR-10 Batch 5:  Loss:     0.9376 Validation Accuracy: 0.541800\n",
      "Epoch 53, CIFAR-10 Batch 1:  Loss:     1.0200 Validation Accuracy: 0.525600\n",
      "Epoch 53, CIFAR-10 Batch 2:  Loss:     0.9000 Validation Accuracy: 0.534400\n",
      "Epoch 53, CIFAR-10 Batch 3:  Loss:     0.8063 Validation Accuracy: 0.534000\n",
      "Epoch 53, CIFAR-10 Batch 4:  Loss:     1.1098 Validation Accuracy: 0.537800\n",
      "Epoch 53, CIFAR-10 Batch 5:  Loss:     0.9437 Validation Accuracy: 0.539000\n",
      "Epoch 54, CIFAR-10 Batch 1:  Loss:     1.0208 Validation Accuracy: 0.531000\n",
      "Epoch 54, CIFAR-10 Batch 2:  Loss:     0.9007 Validation Accuracy: 0.537400\n",
      "Epoch 54, CIFAR-10 Batch 3:  Loss:     0.7976 Validation Accuracy: 0.535400\n",
      "Epoch 54, CIFAR-10 Batch 4:  Loss:     1.1097 Validation Accuracy: 0.539000\n",
      "Epoch 54, CIFAR-10 Batch 5:  Loss:     0.9319 Validation Accuracy: 0.538400\n",
      "Epoch 55, CIFAR-10 Batch 1:  Loss:     1.0143 Validation Accuracy: 0.533200\n",
      "Epoch 55, CIFAR-10 Batch 2:  Loss:     0.9089 Validation Accuracy: 0.536800\n",
      "Epoch 55, CIFAR-10 Batch 3:  Loss:     0.7936 Validation Accuracy: 0.536800\n",
      "Epoch 55, CIFAR-10 Batch 4:  Loss:     1.1155 Validation Accuracy: 0.537400\n",
      "Epoch 55, CIFAR-10 Batch 5:  Loss:     0.9272 Validation Accuracy: 0.540200\n",
      "Epoch 56, CIFAR-10 Batch 1:  Loss:     1.0155 Validation Accuracy: 0.536800\n",
      "Epoch 56, CIFAR-10 Batch 2:  Loss:     0.9024 Validation Accuracy: 0.536000\n",
      "Epoch 56, CIFAR-10 Batch 3:  Loss:     0.7948 Validation Accuracy: 0.537400\n",
      "Epoch 56, CIFAR-10 Batch 4:  Loss:     1.0977 Validation Accuracy: 0.539000\n",
      "Epoch 56, CIFAR-10 Batch 5:  Loss:     0.9166 Validation Accuracy: 0.539600\n",
      "Epoch 57, CIFAR-10 Batch 1:  Loss:     1.0202 Validation Accuracy: 0.533400\n",
      "Epoch 57, CIFAR-10 Batch 2:  Loss:     0.9018 Validation Accuracy: 0.537800\n",
      "Epoch 57, CIFAR-10 Batch 3:  Loss:     0.7941 Validation Accuracy: 0.538600\n",
      "Epoch 57, CIFAR-10 Batch 4:  Loss:     1.1043 Validation Accuracy: 0.539200\n",
      "Epoch 57, CIFAR-10 Batch 5:  Loss:     0.9151 Validation Accuracy: 0.540000\n",
      "Epoch 58, CIFAR-10 Batch 1:  Loss:     1.0158 Validation Accuracy: 0.530600\n",
      "Epoch 58, CIFAR-10 Batch 2:  Loss:     0.8954 Validation Accuracy: 0.536000\n",
      "Epoch 58, CIFAR-10 Batch 3:  Loss:     0.7838 Validation Accuracy: 0.542800\n",
      "Epoch 58, CIFAR-10 Batch 4:  Loss:     1.0885 Validation Accuracy: 0.539000\n",
      "Epoch 58, CIFAR-10 Batch 5:  Loss:     0.9108 Validation Accuracy: 0.541800\n",
      "Epoch 59, CIFAR-10 Batch 1:  Loss:     1.0039 Validation Accuracy: 0.533200\n",
      "Epoch 59, CIFAR-10 Batch 2:  Loss:     0.8889 Validation Accuracy: 0.538200\n",
      "Epoch 59, CIFAR-10 Batch 3:  Loss:     0.7846 Validation Accuracy: 0.540400\n",
      "Epoch 59, CIFAR-10 Batch 4:  Loss:     1.0983 Validation Accuracy: 0.541600\n",
      "Epoch 59, CIFAR-10 Batch 5:  Loss:     0.9012 Validation Accuracy: 0.542000\n",
      "Epoch 60, CIFAR-10 Batch 1:  Loss:     1.0023 Validation Accuracy: 0.534400\n",
      "Epoch 60, CIFAR-10 Batch 2:  Loss:     0.8925 Validation Accuracy: 0.541200\n",
      "Epoch 60, CIFAR-10 Batch 3:  Loss:     0.7764 Validation Accuracy: 0.539000\n",
      "Epoch 60, CIFAR-10 Batch 4:  Loss:     1.0899 Validation Accuracy: 0.541000\n",
      "Epoch 60, CIFAR-10 Batch 5:  Loss:     0.8965 Validation Accuracy: 0.543200\n"
     ]
    }
   ],
   "source": [
    "\"\"\"\n",
    "DON'T MODIFY ANYTHING IN THIS CELL\n",
    "\"\"\"\n",
    "save_model_path = './image_classification'\n",
    "\n",
    "print('Training...')\n",
    "with tf.Session() as sess:\n",
    "    # Initializing the variables\n",
    "    sess.run(tf.global_variables_initializer())\n",
    "    \n",
    "    # Training cycle\n",
    "    for epoch in range(epochs):\n",
    "        # Loop over all batches\n",
    "        n_batches = 5\n",
    "        for batch_i in range(1, n_batches + 1):\n",
    "            for batch_features, batch_labels in helper.load_preprocess_training_batch(batch_i, batch_size):\n",
    "                train_neural_network(sess, optimizer, keep_probability, batch_features, batch_labels)\n",
    "            print('Epoch {:>2}, CIFAR-10 Batch {}:  '.format(epoch + 1, batch_i), end='')\n",
    "            print_stats(sess, batch_features, batch_labels, cost, accuracy)\n",
    "            \n",
    "    # Save Model\n",
    "    saver = tf.train.Saver()\n",
    "    save_path = saver.save(sess, save_model_path)"
   ]
  },
  {
   "cell_type": "markdown",
   "metadata": {
    "deletable": true,
    "editable": true
   },
   "source": [
    "# Checkpoint\n",
    "The model has been saved to disk.\n",
    "## Test Model\n",
    "Test your model against the test dataset.  This will be your final accuracy. You should have an accuracy greater than 50%. If you don't, keep tweaking the model architecture and parameters."
   ]
  },
  {
   "cell_type": "code",
   "execution_count": 18,
   "metadata": {
    "collapsed": false,
    "deletable": true,
    "editable": true
   },
   "outputs": [
    {
     "name": "stdout",
     "output_type": "stream",
     "text": [
      "Testing Accuracy: 0.5521484375\n",
      "\n"
     ]
    },
    {
     "data": {
      "image/png": "[encoded data removed]",
      "text/plain": [
       "<matplotlib.figure.Figure at 0x7fafbd1def28>"
      ]
     },
     "metadata": {
      "image/png": {
       "height": 319,
       "width": 355
      }
     },
     "output_type": "display_data"
    }
   ],
   "source": [
    "\"\"\"\n",
    "DON'T MODIFY ANYTHING IN THIS CELL\n",
    "\"\"\"\n",
    "%matplotlib inline\n",
    "%config InlineBackend.figure_format = 'retina'\n",
    "\n",
    "import tensorflow as tf\n",
    "import pickle\n",
    "import helper\n",
    "import random\n",
    "\n",
    "# Set batch size if not already set\n",
    "try:\n",
    "    if batch_size:\n",
    "        pass\n",
    "except NameError:\n",
    "    batch_size = 64\n",
    "\n",
    "save_model_path = './image_classification'\n",
    "n_samples = 4\n",
    "top_n_predictions = 3\n",
    "\n",
    "def test_model():\n",
    "    \"\"\"\n",
    "    Test the saved model against the test dataset\n",
    "    \"\"\"\n",
    "\n",
    "    test_features, test_labels = pickle.load(open('preprocess_test.p', mode='rb'))\n",
    "    loaded_graph = tf.Graph()\n",
    "\n",
    "    with tf.Session(graph=loaded_graph) as sess:\n",
    "        # Load model\n",
    "        loader = tf.train.import_meta_graph(save_model_path + '.meta')\n",
    "        loader.restore(sess, save_model_path)\n",
    "\n",
    "        # Get Tensors from loaded model\n",
    "        loaded_x = loaded_graph.get_tensor_by_name('x:0')\n",
    "        loaded_y = loaded_graph.get_tensor_by_name('y:0')\n",
    "        loaded_keep_prob = loaded_graph.get_tensor_by_name('keep_prob:0')\n",
    "        loaded_logits = loaded_graph.get_tensor_by_name('logits:0')\n",
    "        loaded_acc = loaded_graph.get_tensor_by_name('accuracy:0')\n",
    "        \n",
    "        # Get accuracy in batches for memory limitations\n",
    "        test_batch_acc_total = 0\n",
    "        test_batch_count = 0\n",
    "        \n",
    "        for test_feature_batch, test_label_batch in helper.batch_features_labels(test_features, test_labels, batch_size):\n",
    "            test_batch_acc_total += sess.run(\n",
    "                loaded_acc,\n",
    "                feed_dict={loaded_x: test_feature_batch, loaded_y: test_label_batch, loaded_keep_prob: 1.0})\n",
    "            test_batch_count += 1\n",
    "\n",
    "        print('Testing Accuracy: {}\\n'.format(test_batch_acc_total/test_batch_count))\n",
    "\n",
    "        # Print Random Samples\n",
    "        random_test_features, random_test_labels = tuple(zip(*random.sample(list(zip(test_features, test_labels)), n_samples)))\n",
    "        random_test_predictions = sess.run(\n",
    "            tf.nn.top_k(tf.nn.softmax(loaded_logits), top_n_predictions),\n",
    "            feed_dict={loaded_x: random_test_features, loaded_y: random_test_labels, loaded_keep_prob: 1.0})\n",
    "        helper.display_image_predictions(random_test_features, random_test_labels, random_test_predictions)\n",
    "\n",
    "\n",
    "test_model()"
   ]
  },
  {
   "cell_type": "markdown",
   "metadata": {
    "deletable": true,
    "editable": true
   },
   "source": [
    "## Why 50-80% Accuracy?\n",
    "You might be wondering why you can't get an accuracy any higher. First things first, 50% isn't bad for a simple CNN.  Pure guessing would get you 10% accuracy. However, you might notice people are getting scores [well above 80%](http://rodrigob.github.io/are_we_there_yet/build/classification_datasets_results.html#43494641522d3130).  That's because we haven't taught you all there is to know about neural networks. We still need to cover a few more techniques.\n",
    "## Submitting This Project\n",
    "When submitting this project, make sure to run all the cells before saving the notebook.  Save the notebook file as \"dlnd_image_classification.ipynb\" and save it as a HTML file under \"File\" -> \"Download as\".  Include the \"helper.py\" and \"problem_unittests.py\" files in your submission."
   ]
  }
 ],
 "metadata": {
  "kernelspec": {
   "display_name": "Python 3",
   "language": "python",
   "name": "python3"
  },
  "language_info": {
   "codemirror_mode": {
    "name": "ipython",
    "version": 3
   },
   "file_extension": ".py",
   "mimetype": "text/x-python",
   "name": "python",
   "nbconvert_exporter": "python",
   "pygments_lexer": "ipython3",
   "version": "3.5.2"
  },
  "widgets": {
   "state": {},
   "version": "1.1.2"
  }
 },
 "nbformat": 4,
 "nbformat_minor": 1
}
